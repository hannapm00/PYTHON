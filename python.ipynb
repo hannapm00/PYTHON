{
 "cells": [
  {
   "cell_type": "code",
   "execution_count": 1,
   "id": "0537f5a3",
   "metadata": {},
   "outputs": [
    {
     "data": {
      "text/plain": [
       "5"
      ]
     },
     "execution_count": 1,
     "metadata": {},
     "output_type": "execute_result"
    }
   ],
   "source": [
    "a=5\n",
    "a"
   ]
  },
  {
   "cell_type": "code",
   "execution_count": 2,
   "id": "536954fa",
   "metadata": {},
   "outputs": [
    {
     "name": "stdout",
     "output_type": "stream",
     "text": [
      "5\n"
     ]
    }
   ],
   "source": [
    "print(a)"
   ]
  },
  {
   "cell_type": "code",
   "execution_count": 3,
   "id": "525e2460",
   "metadata": {},
   "outputs": [
    {
     "name": "stdout",
     "output_type": "stream",
     "text": [
      "<class 'int'>\n"
     ]
    }
   ],
   "source": [
    "print(type(a))"
   ]
  },
  {
   "cell_type": "code",
   "execution_count": 4,
   "id": "ff40d1f2",
   "metadata": {},
   "outputs": [
    {
     "name": "stdout",
     "output_type": "stream",
     "text": [
      "7\n"
     ]
    }
   ],
   "source": [
    "a=5\n",
    "b=2\n",
    "su=a+b\n",
    "print(su)"
   ]
  },
  {
   "cell_type": "code",
   "execution_count": 5,
   "id": "c4cd90d7",
   "metadata": {},
   "outputs": [
    {
     "name": "stdout",
     "output_type": "stream",
     "text": [
      "7\n"
     ]
    }
   ],
   "source": [
    "print(2+5)"
   ]
  },
  {
   "cell_type": "code",
   "execution_count": 6,
   "id": "2a078c74",
   "metadata": {},
   "outputs": [
    {
     "data": {
      "text/plain": [
       "7"
      ]
     },
     "execution_count": 6,
     "metadata": {},
     "output_type": "execute_result"
    }
   ],
   "source": [
    "2+5"
   ]
  },
  {
   "cell_type": "code",
   "execution_count": 7,
   "id": "563bd229",
   "metadata": {},
   "outputs": [
    {
     "name": "stdout",
     "output_type": "stream",
     "text": [
      "7\n"
     ]
    }
   ],
   "source": [
    "a=5\n",
    "b=2\n",
    "print(a+b)"
   ]
  },
  {
   "cell_type": "code",
   "execution_count": 8,
   "id": "fa34235f",
   "metadata": {},
   "outputs": [
    {
     "name": "stdout",
     "output_type": "stream",
     "text": [
      "hello world\n"
     ]
    }
   ],
   "source": [
    "a=\"hello world\"\n",
    "print(a)"
   ]
  },
  {
   "cell_type": "code",
   "execution_count": 9,
   "id": "459dfe03",
   "metadata": {},
   "outputs": [
    {
     "name": "stdout",
     "output_type": "stream",
     "text": [
      "enter your first number: 6\n",
      "enter the second number 8\n",
      "14\n"
     ]
    }
   ],
   "source": [
    "a=int(input(\"enter your first number: \"))\n",
    "b=int(input(\"enter the second number \"))\n",
    "su=a+b\n",
    "print(su)"
   ]
  },
  {
   "cell_type": "code",
   "execution_count": 10,
   "id": "17f4b38c",
   "metadata": {},
   "outputs": [
    {
     "name": "stdout",
     "output_type": "stream",
     "text": [
      "list:\n",
      "5\n",
      "1\n",
      "4\n"
     ]
    }
   ],
   "source": [
    "print(\"list:\")\n",
    "b=[1,2,3,\"hello\",\"hey\"]\n",
    "print(len(b))\n",
    "print(b[0])\n",
    "b[0]=4\n",
    "print(b[0])"
   ]
  },
  {
   "cell_type": "code",
   "execution_count": 11,
   "id": "5fa8092c",
   "metadata": {},
   "outputs": [
    {
     "name": "stdout",
     "output_type": "stream",
     "text": [
      "tuple:\n",
      "(1, 2, 4, 'hello')\n",
      "(1, 2, 4, 'hello', 'hey', 3)\n"
     ]
    }
   ],
   "source": [
    "print(\"tuple:\")\n",
    "a=(1,2,4,\"hello\")\n",
    "print(a)\n",
    "b=a+(\"hey\",3)\n",
    "print(b)"
   ]
  },
  {
   "cell_type": "code",
   "execution_count": 12,
   "id": "5d162228",
   "metadata": {},
   "outputs": [
    {
     "name": "stdout",
     "output_type": "stream",
     "text": [
      "set:\n",
      "{1, 2, 3, 'hello', 4.3}\n"
     ]
    }
   ],
   "source": [
    "print(\"set:\")\n",
    "s={1,2,3,1,\"hello\",4.3}\n",
    "print(s)"
   ]
  },
  {
   "cell_type": "code",
   "execution_count": 13,
   "id": "01a4f0fc",
   "metadata": {},
   "outputs": [
    {
     "name": "stdout",
     "output_type": "stream",
     "text": [
      "using of if...else check a number is positive or negative\n",
      "enter the value of a:7\n",
      "positive\n"
     ]
    }
   ],
   "source": [
    "print(\"using of if...else check a number is positive or negative\")\n",
    "a=int(input(\"enter the value of a:\"))\n",
    "if a<0:\n",
    "    print(\"negative\")\n",
    "else:\n",
    "    print(\"positive\")"
   ]
  },
  {
   "cell_type": "code",
   "execution_count": 14,
   "id": "f4fe4fbc",
   "metadata": {},
   "outputs": [
    {
     "name": "stdout",
     "output_type": "stream",
     "text": [
      "use if,elif,else check whether a number is positive,negative or 0\n",
      "enter the value of a:3\n",
      "positive\n"
     ]
    }
   ],
   "source": [
    "print(\"use if,elif,else check whether a number is positive,negative or 0\")\n",
    "a=int(input(\"enter the value of a:\"))\n",
    "if a<0:\n",
    "    print(\"negative\")\n",
    "elif a>0:\n",
    "    print(\"positive\")\n",
    "else:\n",
    "    print(\"0\")"
   ]
  },
  {
   "cell_type": "code",
   "execution_count": 15,
   "id": "f9cd802e",
   "metadata": {},
   "outputs": [
    {
     "name": "stdout",
     "output_type": "stream",
     "text": [
      "dictionary\n",
      "{'name': 'hanna', 'place': 'kannur', 'location': 'calicut', 'qualification': 'bsc computer'}\n"
     ]
    }
   ],
   "source": [
    "print(\"dictionary\")\n",
    "a={\"name\":\"hanna\",'place':'kannur','location':'calicut','qualification':'bsc computer'}\n",
    "print(a)"
   ]
  },
  {
   "cell_type": "code",
   "execution_count": 16,
   "id": "0a43728f",
   "metadata": {},
   "outputs": [
    {
     "name": "stdout",
     "output_type": "stream",
     "text": [
      "to check whether given number is divisible by 5\n",
      "enter the value of a:34\n",
      "not divisible by 5\n"
     ]
    }
   ],
   "source": [
    "print(\"to check whether given number is divisible by 5\")\n",
    "a=int(input((\"enter the value of a:\")))\n",
    "if a%5==0:\n",
    "    print(\"it is divisible by 5\")\n",
    "else:\n",
    "    print(\"not divisible by 5\")"
   ]
  },
  {
   "cell_type": "code",
   "execution_count": 17,
   "id": "07ea892b",
   "metadata": {},
   "outputs": [
    {
     "name": "stdout",
     "output_type": "stream",
     "text": [
      "discount program\n",
      "enter the amount:4342\n",
      "4332\n"
     ]
    }
   ],
   "source": [
    "print(\"discount program\")\n",
    "amount=int(input(\"enter the amount:\"))\n",
    "if amount>1000:\n",
    "    amount=amount-10\n",
    "    print(amount)\n",
    "else:\n",
    "    print(\"total amount is:\")\n",
    "    print(amount)"
   ]
  },
  {
   "cell_type": "code",
   "execution_count": 18,
   "id": "a712f5e5",
   "metadata": {},
   "outputs": [
    {
     "name": "stdout",
     "output_type": "stream",
     "text": [
      "election program\n",
      "enter the age:2\n",
      "you are not eligible to vote\n"
     ]
    }
   ],
   "source": [
    "print(\"election program\")\n",
    "age=int(input(\"enter the age:\"))\n",
    "if age==18:\n",
    "    print(\"he/she is eligible to vote\")\n",
    "elif age>=25:\n",
    "    print(\"he/she is eligible to vote and can contest election.\")\n",
    "elif age<18:\n",
    "    print(\"you are not eligible to vote\")\n",
    "else:\n",
    "    print(\"you are eligible to vote\")"
   ]
  },
  {
   "cell_type": "code",
   "execution_count": 19,
   "id": "14ca4269",
   "metadata": {},
   "outputs": [
    {
     "name": "stdout",
     "output_type": "stream",
     "text": [
      "prgram to check whether a year is leap year or not\n",
      "enter the year:2000\n",
      "it is  leap year\n"
     ]
    }
   ],
   "source": [
    "print(\"prgram to check whether a year is leap year or not\")\n",
    "year=int(input(\"enter the year:\"))\n",
    "if year%4==0:\n",
    "    print(\"it is  leap year\")\n",
    "else:\n",
    "    print(\" it is not a leap year\")\n"
   ]
  },
  {
   "cell_type": "code",
   "execution_count": 20,
   "id": "27965cc0",
   "metadata": {},
   "outputs": [
    {
     "name": "stdout",
     "output_type": "stream",
     "text": [
      "to ckeck whether a given number is odd/even\n",
      "enter the number:43\n",
      "the given number is odd\n"
     ]
    }
   ],
   "source": [
    "print(\"to ckeck whether a given number is odd/even\")\n",
    "a=int(input(\"enter the number:\"))\n",
    "if a%2==0:\n",
    "    print(\"the given number is even\")\n",
    "else:\n",
    "    print(\"the given number is odd\")"
   ]
  },
  {
   "cell_type": "code",
   "execution_count": 21,
   "id": "ec030904",
   "metadata": {},
   "outputs": [
    {
     "name": "stdout",
     "output_type": "stream",
     "text": [
      "print the largest among three numbers\n",
      "enter the first number43\n",
      "enter the second number34\n",
      "enter the third number43\n",
      "43\n"
     ]
    }
   ],
   "source": [
    "print(\"print the largest among three numbers\")\n",
    "a=int(input(\"enter the first number\"))\n",
    "b=int(input(\"enter the second number\"))\n",
    "c=int(input(\"enter the third number\"))\n",
    "if a>b and a>c:\n",
    "    print(a)\n",
    "elif b>a and b>c:\n",
    "    print(b)\n",
    "    \n",
    "else:\n",
    "    print(c)"
   ]
  },
  {
   "cell_type": "code",
   "execution_count": 22,
   "id": "74d1c20e",
   "metadata": {},
   "outputs": [
    {
     "name": "stdout",
     "output_type": "stream",
     "text": [
      "to find the average of subjects .\n",
      "enter the mark of first subject:23\n",
      "enter the mark of second subject:33\n",
      "enter the mark of third subject:4\n",
      "enter the mark of fourth subject:5\n",
      "enter the mark of fifth subject:43\n",
      "21.6\n",
      "fail\n"
     ]
    }
   ],
   "source": [
    "print(\"to find the average of subjects .\")\n",
    "s1=int(input(\"enter the mark of first subject:\"))\n",
    "s2=int(input(\"enter the mark of second subject:\"))\n",
    "s3=int(input(\"enter the mark of third subject:\"))\n",
    "s4=int(input(\"enter the mark of fourth subject:\"))\n",
    "s5=int(input(\"enter the mark of fifth subject:\"))\n",
    "avg=(s1+s2+s3+s4+s5)/5\n",
    "print(avg)\n",
    "if (avg>=90 and avg<=100):\n",
    "    print(\"A+\")\n",
    "elif (avg>=80 and avg<90):\n",
    "    print(\"A\")\n",
    "elif (avg>=70 and avg<80):\n",
    "    print(\"B+\")\n",
    "elif (avg>=60 and avg<70):\n",
    "    print(\"B\")\n",
    "elif (avg>=50 and avg<60):\n",
    "    print(\"C\")\n",
    "elif (avg>=40 and avg<50):\n",
    "    print(\"D\")\n",
    "else:\n",
    "    print(\"fail\")\n"
   ]
  },
  {
   "cell_type": "code",
   "execution_count": 23,
   "id": "f35577ec",
   "metadata": {},
   "outputs": [
    {
     "name": "stdout",
     "output_type": "stream",
     "text": [
      "printing month\n",
      "enter the month number:3\n",
      "MARCH\n"
     ]
    }
   ],
   "source": [
    "print(\"printing month\")\n",
    "a=int(input(\"enter the month number:\"))\n",
    "if a==1:\n",
    "    print(\"JANUARY\")\n",
    "elif a==2:\n",
    "    print(\"FEBRUARY\")\n",
    "elif a==3:\n",
    "    print(\"MARCH\")\n",
    "elif a==4:\n",
    "    print(\"APRIL\")\n",
    "elif a==5:\n",
    "    print(\"MAY\")\n",
    "elif a==6:\n",
    "    print(\"JUNE\")\n",
    "elif a==7:\n",
    "    print(\"JULY\")\n",
    "elif a==8:\n",
    "    print(\"AUGUST\")\n",
    "elif a==9:\n",
    "    print(\"SEPTEMBER\")\n",
    "elif a==10:\n",
    "    print(\"OCTOBER\")\n",
    "elif a==11:\n",
    "    print(\"NOVEMBER\")\n",
    "elif a==12:\n",
    "    print(\"DECEMBER\")\n",
    "else:\n",
    "    print(\"not a valid month\")"
   ]
  },
  {
   "cell_type": "code",
   "execution_count": 24,
   "id": "84b1be59",
   "metadata": {},
   "outputs": [
    {
     "name": "stdout",
     "output_type": "stream",
     "text": [
      "program to read a character and print corresponding VIBGYOR.\n",
      "enter the chracter: g\n",
      "GREEN\n"
     ]
    }
   ],
   "source": [
    "print(\"program to read a character and print corresponding VIBGYOR.\")\n",
    "a=input(\"enter the chracter: \")\n",
    "if (a=='v' or a=='V'):\n",
    "    print(\"VIOLET\")\n",
    "elif (a=='i' or a=='I'):\n",
    "    print(\"INDIGO\")\n",
    "elif (a=='b' or a=='B'):\n",
    "    print(\"BLUE\")\n",
    "elif (a=='g' or a=='G'):\n",
    "    print(\"GREEN\")\n",
    "elif (a=='y' or a=='Y'):\n",
    "    print(\"YELLOW\")\n",
    "elif (a=='o' or a=='O'):\n",
    "    print(\"ORANGE\")\n",
    "elif (a=='r' or a=='R'):\n",
    "    print(\"RED\")\n",
    "else:\n",
    "    print(\"invalid!!!enter any charcter from VIBGYOR...\")"
   ]
  },
  {
   "cell_type": "code",
   "execution_count": 25,
   "id": "27ee22ef",
   "metadata": {},
   "outputs": [
    {
     "name": "stdout",
     "output_type": "stream",
     "text": [
      "list functions:add,delete and replace an element\n",
      "7\n",
      "['hello', 8, 2, 3, 'hey']\n",
      "[3, 8, 2, 3, 'hey']\n"
     ]
    }
   ],
   "source": [
    "print(\"list functions:add,delete and replace an element\")\n",
    "a=[1,2,'hello','hey']\n",
    "a.append(3)\n",
    "a.append('hey')\n",
    "a.insert(1,8)\n",
    "print(len(a))\n",
    "a.remove('hello')\n",
    "del(a[3])\n",
    "a[0]='hello'\n",
    "print(a)\n",
    "a[0]=3\n",
    "print(a)\n",
    "\n",
    "\n"
   ]
  },
  {
   "cell_type": "code",
   "execution_count": 26,
   "id": "f526c3b1",
   "metadata": {},
   "outputs": [
    {
     "name": "stdout",
     "output_type": "stream",
     "text": [
      "set operations:using union, intersection , difference and symmetric difference \n"
     ]
    },
    {
     "data": {
      "text/plain": [
       "{1, 2, 4, 5, 8, 9}"
      ]
     },
     "execution_count": 26,
     "metadata": {},
     "output_type": "execute_result"
    }
   ],
   "source": [
    "print(\"set operations:using union, intersection , difference and symmetric difference \")\n",
    "s1=set([1,2,3,4])\n",
    "s2=set([5,9,3,8])\n",
    "# s1.union(s2)\n",
    "s1.intersection(s2)\n",
    "# s1.difference(s2)\n",
    "s1.symmetric_difference(s2)\n"
   ]
  },
  {
   "cell_type": "code",
   "execution_count": 27,
   "id": "5ece15d8",
   "metadata": {},
   "outputs": [
    {
     "name": "stdout",
     "output_type": "stream",
     "text": [
      "write a program to sum up all elements in the list\n",
      "7\n"
     ]
    }
   ],
   "source": [
    "print(\"write a program to sum up all elements in the list\")\n",
    "a=[1,4,2]\n",
    "sum=a[0]+a[1]+a[2]\n",
    "print(sum)"
   ]
  },
  {
   "cell_type": "code",
   "execution_count": 28,
   "id": "1926fc59",
   "metadata": {},
   "outputs": [
    {
     "name": "stdout",
     "output_type": "stream",
     "text": [
      "findind common values from the lists\n",
      "{1}\n"
     ]
    }
   ],
   "source": [
    "print(\"findind common values from the lists\")\n",
    "a=[1,3,3,7]\n",
    "s1=set(a)\n",
    "b=[8,9,1]\n",
    "s2=set(b)\n",
    "c=s1.intersection(s2)\n",
    "print(c)"
   ]
  },
  {
   "cell_type": "code",
   "execution_count": 29,
   "id": "ff51114a",
   "metadata": {},
   "outputs": [
    {
     "name": "stdout",
     "output_type": "stream",
     "text": [
      "find the largest number from the list\n",
      "[1, 1, 2, 4, 5, 8]\n",
      "8\n"
     ]
    }
   ],
   "source": [
    "print(\"find the largest number from the list\")\n",
    "a=[1,4,2,8,5,1]\n",
    "a.sort()\n",
    "print(a)\n",
    "print(a[-1])"
   ]
  },
  {
   "cell_type": "code",
   "execution_count": 30,
   "id": "53da5d71",
   "metadata": {},
   "outputs": [
    {
     "name": "stdout",
     "output_type": "stream",
     "text": [
      "find the smallest number from the list\n",
      "[1, 1, 2, 4, 5, 8]\n",
      "1\n"
     ]
    }
   ],
   "source": [
    "print(\"find the smallest number from the list\")\n",
    "a=[1,4,2,8,5,1]\n",
    "a.sort()\n",
    "print(a)\n",
    "print(a[0])"
   ]
  },
  {
   "cell_type": "code",
   "execution_count": 31,
   "id": "8e4a9f62",
   "metadata": {},
   "outputs": [
    {
     "name": "stdout",
     "output_type": "stream",
     "text": [
      "program to copy a list to other\n",
      "[1, 4, 2, 8, 5, 1]\n"
     ]
    }
   ],
   "source": [
    "print(\"program to copy a list to other\")\n",
    "a=[1,4,2,8,5,1]\n",
    "b=a.copy()\n",
    "print(b)"
   ]
  },
  {
   "cell_type": "code",
   "execution_count": 32,
   "id": "81aca079",
   "metadata": {},
   "outputs": [
    {
     "name": "stdout",
     "output_type": "stream",
     "text": [
      "program to append a list to other\n",
      "[1, 4, 2, 8, 5, 1, 2, 6, 3]\n"
     ]
    }
   ],
   "source": [
    "print(\"program to append a list to other\")\n",
    "a=[1,4,2,8,5,1]\n",
    "b=[2,6,3]\n",
    "c=a+b\n",
    "print(c)"
   ]
  },
  {
   "cell_type": "code",
   "execution_count": 33,
   "id": "27e82be7",
   "metadata": {},
   "outputs": [
    {
     "name": "stdout",
     "output_type": "stream",
     "text": [
      "a python program to check whether a list is empty\n",
      "2\n",
      "the list is not empty\n"
     ]
    }
   ],
   "source": [
    "print(\"a python program to check whether a list is empty\")\n",
    "a=[1,'hey']\n",
    "c=len(a)\n",
    "print(c)\n",
    "if c==0:\n",
    "    print(\"the list is empty\")\n",
    "else:\n",
    "    print(\"the list is not empty\")"
   ]
  },
  {
   "cell_type": "code",
   "execution_count": 34,
   "id": "dca16e55",
   "metadata": {},
   "outputs": [
    {
     "name": "stdout",
     "output_type": "stream",
     "text": [
      "a program to convert a string to a list\n",
      "['h', 'e', 'l', 'l', 'o']\n"
     ]
    }
   ],
   "source": [
    "print(\"a program to convert a string to a list\")\n",
    "a=\"hello\"\n",
    "b=list(a)\n",
    "print(b)"
   ]
  },
  {
   "cell_type": "code",
   "execution_count": 35,
   "id": "3ac43ec3",
   "metadata": {},
   "outputs": [
    {
     "name": "stdout",
     "output_type": "stream",
     "text": [
      "a program to extend a list without append\n",
      "[1, 2, 3, 2]\n"
     ]
    }
   ],
   "source": [
    "print(\"a program to extend a list without append\")\n",
    "a=[1,2,3]\n",
    "b=[2]\n",
    "c=a+b\n",
    "print(c)"
   ]
  },
  {
   "cell_type": "code",
   "execution_count": 36,
   "id": "9e211131",
   "metadata": {},
   "outputs": [
    {
     "name": "stdout",
     "output_type": "stream",
     "text": [
      "to create a set\n",
      "{1, 2, 7}\n"
     ]
    }
   ],
   "source": [
    "print(\"to create a set\")\n",
    "a=set([1,2,7,1])\n",
    "print(a)"
   ]
  },
  {
   "cell_type": "code",
   "execution_count": 37,
   "id": "5b62006d",
   "metadata": {},
   "outputs": [
    {
     "name": "stdout",
     "output_type": "stream",
     "text": [
      "to add element in the set\n",
      "{1, 3, 6, 9}\n"
     ]
    }
   ],
   "source": [
    "print(\"to add element in the set\")\n",
    "a={1,3,6,6}\n",
    "a.add(9)\n",
    "print(a)\n"
   ]
  },
  {
   "cell_type": "code",
   "execution_count": 38,
   "id": "c836ce16",
   "metadata": {},
   "outputs": [
    {
     "name": "stdout",
     "output_type": "stream",
     "text": [
      "to remove items from the given set\n",
      "{3, 1, 'hey', 4}\n",
      "{3, 4}\n"
     ]
    }
   ],
   "source": [
    "print(\"to remove items from the given set\")\n",
    "a={1,3,4,'hey'}\n",
    "print(a)\n",
    "a.remove('hey')\n",
    "a.remove(1)\n",
    "print(a)"
   ]
  },
  {
   "cell_type": "code",
   "execution_count": 39,
   "id": "5a948229",
   "metadata": {},
   "outputs": [
    {
     "name": "stdout",
     "output_type": "stream",
     "text": [
      "a python program to do intersection,difference,union\n"
     ]
    },
    {
     "data": {
      "text/plain": [
       "{1, 8, 'hey'}"
      ]
     },
     "execution_count": 39,
     "metadata": {},
     "output_type": "execute_result"
    }
   ],
   "source": [
    "print(\"a python program to do intersection,difference,union\")\n",
    "a={1,3,8,'hey'}\n",
    "b={5,3,9}\n",
    "a.intersection(b)\n",
    "a.union(b)\n",
    "a.difference(b)"
   ]
  },
  {
   "cell_type": "code",
   "execution_count": 40,
   "id": "869557a6",
   "metadata": {},
   "outputs": [
    {
     "name": "stdout",
     "output_type": "stream",
     "text": [
      "a python program to copy the set\n",
      "{1, 2, 3}\n"
     ]
    }
   ],
   "source": [
    "print(\"a python program to copy the set\")\n",
    "a={1,3,2}\n",
    "b=a.copy()\n",
    "print(b)"
   ]
  },
  {
   "cell_type": "code",
   "execution_count": 41,
   "id": "5963ceda",
   "metadata": {},
   "outputs": [
    {
     "name": "stdout",
     "output_type": "stream",
     "text": [
      "to remove all the elements from the set\n",
      "0\n"
     ]
    }
   ],
   "source": [
    "print(\"to remove all the elements from the set\")\n",
    "a={1,8,5}\n",
    "a.clear()\n",
    "print(len(a))"
   ]
  },
  {
   "cell_type": "code",
   "execution_count": 42,
   "id": "951192d8",
   "metadata": {},
   "outputs": [
    {
     "name": "stdout",
     "output_type": "stream",
     "text": [
      "to find the length of set\n",
      "5\n"
     ]
    }
   ],
   "source": [
    "print(\"to find the length of set\")\n",
    "a={1,4,2,'hey','hello'}\n",
    "print(len(a))"
   ]
  },
  {
   "cell_type": "code",
   "execution_count": 43,
   "id": "2a4deb64",
   "metadata": {},
   "outputs": [
    {
     "name": "stdout",
     "output_type": "stream",
     "text": [
      "a program to check it has common elen=ments /not\n",
      "2\n",
      "it has common elements\n"
     ]
    }
   ],
   "source": [
    "print(\"a program to check it has common elen=ments /not\")\n",
    "a={2,8,6}\n",
    "b={9,2,8,5}\n",
    "c=a.intersection(b)\n",
    "d=len(c)\n",
    "print(d)\n",
    "if d==0:\n",
    "    print(\"it has no common elements\")\n",
    "else:\n",
    "    print(\"it has common elements\")"
   ]
  },
  {
   "cell_type": "code",
   "execution_count": 44,
   "id": "943b4b7c",
   "metadata": {},
   "outputs": [
    {
     "name": "stdout",
     "output_type": "stream",
     "text": [
      "to create dictionary\n",
      "{'1': 'hello', '2': 'hey', '3': 'world'}\n",
      "{}\n"
     ]
    }
   ],
   "source": [
    "print(\"to create dictionary\")\n",
    "a={'1':'hello','2':'hey','3':'world'}\n",
    "print(a)\n",
    "a.clear()\n",
    "print(a)\n"
   ]
  },
  {
   "cell_type": "code",
   "execution_count": 45,
   "id": "b903921b",
   "metadata": {},
   "outputs": [
    {
     "name": "stdout",
     "output_type": "stream",
     "text": [
      "to check whether a given set is sub set on other set\n"
     ]
    },
    {
     "data": {
      "text/plain": [
       "False"
      ]
     },
     "execution_count": 45,
     "metadata": {},
     "output_type": "execute_result"
    }
   ],
   "source": [
    "print(\"to check whether a given set is sub set on other set\")\n",
    "a={3,8,9}\n",
    "b={7}\n",
    "b.issubset(a)"
   ]
  },
  {
   "cell_type": "code",
   "execution_count": 46,
   "id": "fb057c21",
   "metadata": {},
   "outputs": [
    {
     "name": "stdout",
     "output_type": "stream",
     "text": [
      "to add elements in set\n",
      "6\n"
     ]
    }
   ],
   "source": [
    "print(\"to add elements in set\")\n",
    "a={1,2,3}\n",
    "sum=0\n",
    "for i in a:\n",
    "    \n",
    "    sum=sum+i\n",
    "print(sum)"
   ]
  },
  {
   "cell_type": "code",
   "execution_count": 47,
   "id": "ed0f312c",
   "metadata": {},
   "outputs": [
    {
     "name": "stdout",
     "output_type": "stream",
     "text": [
      "to add key to the dictionary\n",
      "{'1': 'hanna', '2': 'kannur', 'address': 'hamd'}\n",
      "{'1': 'hanna', '2': 'kannur'}\n"
     ]
    }
   ],
   "source": [
    "print(\"to add key to the dictionary\")\n",
    "a={'1':'hanna','2':'kannur'}\n",
    "a['address']='hamd'\n",
    "print(a)\n",
    "del a['address']\n",
    "print(a)"
   ]
  },
  {
   "cell_type": "code",
   "execution_count": 48,
   "id": "29277ca4",
   "metadata": {},
   "outputs": [
    {
     "name": "stdout",
     "output_type": "stream",
     "text": [
      "a program to add all the elements in dictionary\n",
      "1\n",
      "3\n",
      "6\n",
      "10\n"
     ]
    }
   ],
   "source": [
    "print(\"a program to add all the elements in dictionary\")\n",
    "a={1:'hey',2:'hello',3:'world',4:'address'}\n",
    "summ=0\n",
    "# c=a.keys()\n",
    "# for i in c:\n",
    "#     sum=sum+i\n",
    "#     print(sum)\n",
    "a.keys()\n",
    "for i in a:\n",
    "    summ=summ+i\n",
    "    print(summ)"
   ]
  },
  {
   "cell_type": "code",
   "execution_count": 49,
   "id": "01c7ff7e",
   "metadata": {},
   "outputs": [
    {
     "name": "stdout",
     "output_type": "stream",
     "text": [
      "to multiply all elements in the dictionary\n",
      "1\n",
      "2\n",
      "14\n",
      "56\n"
     ]
    }
   ],
   "source": [
    "print(\"to multiply all elements in the dictionary\")\n",
    "a={1:'hey',2:'hello',7:'world',4:'hanna',2:'jui'}\n",
    "mulll=1\n",
    "a.keys()\n",
    "for i in a:\n",
    "    mulll=mulll*i\n",
    "    print(mulll)\n",
    "    "
   ]
  },
  {
   "cell_type": "code",
   "execution_count": 50,
   "id": "1f4ad028",
   "metadata": {},
   "outputs": [
    {
     "name": "stdout",
     "output_type": "stream",
     "text": [
      "to select odd item from a list\n",
      "[5, 3, 3, 2, 8]\n",
      "5\n",
      "3\n",
      "3\n",
      "\n"
     ]
    }
   ],
   "source": [
    "print(\"to select odd item from a list\")\n",
    "a=[5,3,3,2,8]\n",
    "print(a)\n",
    "for i in a:\n",
    "    if i%2!=0:\n",
    "        print(i)\n",
    "else:\n",
    "    print('')\n",
    "        "
   ]
  },
  {
   "cell_type": "code",
   "execution_count": 51,
   "id": "0a9cb88d",
   "metadata": {},
   "outputs": [
    {
     "name": "stdout",
     "output_type": "stream",
     "text": [
      "enter the item to search for:  1\n"
     ]
    }
   ],
   "source": [
    "a=[1,2,5,4]\n",
    "b=int(input(\"enter the item to search for:  \"))\n",
    "# for i in a:\n",
    "#     if b==i:\n",
    "#     print(i)\n",
    "# else:\n",
    "#     print('')"
   ]
  },
  {
   "cell_type": "code",
   "execution_count": 52,
   "id": "8dcf941e",
   "metadata": {},
   "outputs": [
    {
     "name": "stdout",
     "output_type": "stream",
     "text": [
      "to get unique values from the list\n",
      "{8, 1, 4}\n"
     ]
    }
   ],
   "source": [
    "print(\"to get unique values from the list\")\n",
    "a=[1,4,4,8]\n",
    "b=set(a)\n",
    "print(b)"
   ]
  },
  {
   "cell_type": "code",
   "execution_count": 53,
   "id": "01f3bf33",
   "metadata": {},
   "outputs": [
    {
     "name": "stdout",
     "output_type": "stream",
     "text": [
      "a python program to calculate the length of the string\n"
     ]
    },
    {
     "data": {
      "text/plain": [
       "5"
      ]
     },
     "execution_count": 53,
     "metadata": {},
     "output_type": "execute_result"
    }
   ],
   "source": [
    "print(\"a python program to calculate the length of the string\")\n",
    "a=\"hanna\"\n",
    "len(a)"
   ]
  },
  {
   "cell_type": "code",
   "execution_count": 54,
   "id": "283c15c3",
   "metadata": {},
   "outputs": [
    {
     "name": "stdout",
     "output_type": "stream",
     "text": [
      "a program to count the charcter occurence\n"
     ]
    },
    {
     "data": {
      "text/plain": [
       "7"
      ]
     },
     "execution_count": 54,
     "metadata": {},
     "output_type": "execute_result"
    }
   ],
   "source": [
    "print(\"a program to count the charcter occurence\")\n",
    "a='heloo world of people oo'\n",
    "a.count('o')"
   ]
  },
  {
   "cell_type": "code",
   "execution_count": 55,
   "id": "8435b7a9",
   "metadata": {},
   "outputs": [
    {
     "name": "stdout",
     "output_type": "stream",
     "text": [
      "hello:\n"
     ]
    },
    {
     "data": {
      "text/plain": [
       "3"
      ]
     },
     "execution_count": 55,
     "metadata": {},
     "output_type": "execute_result"
    }
   ],
   "source": [
    "a='hello nice to meet you people hello helloo !!'\n",
    "print(\"hello:\")\n",
    "a.count('hello')"
   ]
  },
  {
   "cell_type": "code",
   "execution_count": 56,
   "id": "10cdce5a",
   "metadata": {},
   "outputs": [
    {
     "name": "stdout",
     "output_type": "stream",
     "text": [
      "enter the stringfdd\n"
     ]
    },
    {
     "data": {
      "text/plain": [
       "'FDD'"
      ]
     },
     "execution_count": 56,
     "metadata": {},
     "output_type": "execute_result"
    }
   ],
   "source": [
    "a=input(\"enter the string\")\n",
    "a.lower()\n",
    "a.upper()"
   ]
  },
  {
   "cell_type": "code",
   "execution_count": 57,
   "id": "f77299a0",
   "metadata": {},
   "outputs": [
    {
     "name": "stdout",
     "output_type": "stream",
     "text": [
      "program to define a function\n",
      "hai\n"
     ]
    }
   ],
   "source": [
    "print(\"program to define a function\")\n",
    "def example():\n",
    "    print(\"hai\")\n",
    "example()"
   ]
  },
  {
   "cell_type": "code",
   "execution_count": 58,
   "id": "23ff14f8",
   "metadata": {},
   "outputs": [
    {
     "name": "stdout",
     "output_type": "stream",
     "text": [
      "program to add using function\n"
     ]
    },
    {
     "data": {
      "text/plain": [
       "10"
      ]
     },
     "execution_count": 58,
     "metadata": {},
     "output_type": "execute_result"
    }
   ],
   "source": [
    "print(\"program to add using function\")\n",
    "def add(a,b):\n",
    "    return(a+b)\n",
    "#     print(a+b)\n",
    "add(5,5)"
   ]
  },
  {
   "cell_type": "code",
   "execution_count": 59,
   "id": "4a7386af",
   "metadata": {},
   "outputs": [
    {
     "name": "stdout",
     "output_type": "stream",
     "text": [
      "a program by using default arg\n",
      "hanna\n",
      "hey\n"
     ]
    }
   ],
   "source": [
    "print(\"a program by using default arg\")\n",
    "def greet(name,wish='hey'):\n",
    "    print(name)\n",
    "    print(wish)\n",
    "greet('hanna')    "
   ]
  },
  {
   "cell_type": "code",
   "execution_count": 60,
   "id": "4a7af0d0",
   "metadata": {},
   "outputs": [
    {
     "name": "stdout",
     "output_type": "stream",
     "text": [
      "program to print multiplication table of a number\n",
      "enter the number to get thhe multiplication table:4\n",
      "4 * 1 = 4\n",
      "4 * 2 = 8\n",
      "4 * 3 = 12\n",
      "4 * 4 = 16\n",
      "4 * 5 = 20\n",
      "4 * 6 = 24\n",
      "4 * 7 = 28\n",
      "4 * 8 = 32\n",
      "4 * 9 = 36\n",
      "4 * 10 = 40\n"
     ]
    }
   ],
   "source": [
    "print(\"program to print multiplication table of a number\")\n",
    "a=int(input(\"enter the number to get thhe multiplication table:\"))\n",
    "for i in range (1,11):\n",
    "    print(a,\"*\",i,\"=\",i*a)"
   ]
  },
  {
   "cell_type": "code",
   "execution_count": 61,
   "id": "3f38a8a6",
   "metadata": {},
   "outputs": [
    {
     "name": "stdout",
     "output_type": "stream",
     "text": [
      "0\n",
      "1\n",
      "1\n"
     ]
    }
   ],
   "source": [
    "def fib(n):\n",
    "    a = 0\n",
    "    b = 1\n",
    "    if n == 1:\n",
    "        print(a)\n",
    "    else:\n",
    "        print(a)\n",
    "        print(b)\n",
    "        for i in range(2,n):\n",
    "            c = a + b\n",
    "            a = b\n",
    "            b = c\n",
    "            print(c)\n",
    "fib(3)"
   ]
  },
  {
   "cell_type": "code",
   "execution_count": 62,
   "id": "34939ca3",
   "metadata": {},
   "outputs": [
    {
     "name": "stdout",
     "output_type": "stream",
     "text": [
      "area of circle\n",
      "12.56\n"
     ]
    }
   ],
   "source": [
    "print(\"area of circle\")\n",
    "def area(r):\n",
    "    print(3.14*r*r)\n",
    "area(2)"
   ]
  },
  {
   "cell_type": "code",
   "execution_count": 63,
   "id": "be9567ca",
   "metadata": {},
   "outputs": [
    {
     "name": "stdout",
     "output_type": "stream",
     "text": [
      "volume of cube using function\n",
      "27\n"
     ]
    }
   ],
   "source": [
    "print(\"volume of cube using function\")\n",
    "def vol(s):\n",
    "    print(s*s*s)\n",
    "vol(3)"
   ]
  },
  {
   "cell_type": "code",
   "execution_count": 64,
   "id": "5e0b5ed6",
   "metadata": {},
   "outputs": [
    {
     "name": "stdout",
     "output_type": "stream",
     "text": [
      "to find area of rectangle using function:\n",
      "36\n"
     ]
    }
   ],
   "source": [
    "print(\"to find area of rectangle using function:\")\n",
    "def area(l,b):\n",
    "    print(l*b)\n",
    "area(4,9)"
   ]
  },
  {
   "cell_type": "code",
   "execution_count": 65,
   "id": "a86363ab",
   "metadata": {},
   "outputs": [
    {
     "name": "stdout",
     "output_type": "stream",
     "text": [
      "program to find the perimeter of the square\n",
      "enter the side of square: 3\n",
      "12\n"
     ]
    }
   ],
   "source": [
    "print(\"program to find the perimeter of the square\")\n",
    "def peri(a):\n",
    "    a=int(input(\"enter the side of square: \"))\n",
    "    print(4*a)\n",
    "peri(2)"
   ]
  },
  {
   "cell_type": "code",
   "execution_count": 66,
   "id": "41b2c750",
   "metadata": {},
   "outputs": [
    {
     "name": "stdout",
     "output_type": "stream",
     "text": [
      "program to find number of vowels in the string\n",
      "Please Enter Your Own String : fdfd\n",
      "Total Number of Vowels in this String =  0\n"
     ]
    }
   ],
   "source": [
    "print(\"program to find number of vowels in the string\")\n",
    "str1 = input(\"Please Enter Your Own String : \")\n",
    "vowels = 0\n",
    " \n",
    "for i in str1:\n",
    "    if(i == 'a' or i == 'e' or i == 'i' or i == 'o' or i == 'u' or i == 'A'\n",
    "       or i == 'E' or i == 'I' or i == 'O' or i == 'U'):\n",
    "        vowels = vowels + 1\n",
    " \n",
    "print(\"Total Number of Vowels in this String = \", vowels)"
   ]
  },
  {
   "cell_type": "code",
   "execution_count": 67,
   "id": "cb03a3ec",
   "metadata": {},
   "outputs": [
    {
     "name": "stdout",
     "output_type": "stream",
     "text": [
      "program to check whether anumber is prime or not\n",
      "enter the number:  3\n"
     ]
    }
   ],
   "source": [
    "print(\"program to check whether anumber is prime or not\")\n",
    "a=int(input(\"enter the number:  \"))\n"
   ]
  },
  {
   "cell_type": "code",
   "execution_count": 69,
   "id": "d1cc87fc",
   "metadata": {},
   "outputs": [
    {
     "name": "stdout",
     "output_type": "stream",
     "text": [
      "sum of digits of number\n"
     ]
    }
   ],
   "source": [
    "print(\"sum of digits of number\")\n"
   ]
  },
  {
   "cell_type": "code",
   "execution_count": 70,
   "id": "f80b7408",
   "metadata": {},
   "outputs": [
    {
     "name": "stdout",
     "output_type": "stream",
     "text": [
      "Enter the number: 67\n",
      "67 is not a Palindrome\n"
     ]
    }
   ],
   "source": [
    "\n",
    "num = input('Enter the number: ')\n",
    "i = 0\n",
    "length = len(num)\n",
    "if(len(num) % 2 == 0):\n",
    "    length = len(num) + 1\n",
    "    \n",
    "for i in range(length):\n",
    "   if num[i] != num[-1-i]:\n",
    "      print(num,'is not a Palindrome')\n",
    "      break\n",
    "else:\n",
    "   print(num,'is a Palindrome')"
   ]
  },
  {
   "cell_type": "code",
   "execution_count": 71,
   "id": "44180f29",
   "metadata": {},
   "outputs": [
    {
     "name": "stdout",
     "output_type": "stream",
     "text": [
      "Enter the string: hdiloo\n",
      "hdiloo is not a Palindrome\n"
     ]
    }
   ],
   "source": [
    "string = input('Enter the string: ')\n",
    "i=0\n",
    "for i in range(len(string)):\n",
    "   if string[i]!=string[-1-i]:\n",
    "      print(string,'is not a Palindrome')\n",
    "      break\n",
    "else:\n",
    "   print(string,'is a Palindrome')"
   ]
  },
  {
   "cell_type": "code",
   "execution_count": 72,
   "id": "82961b67",
   "metadata": {},
   "outputs": [
    {
     "name": "stdout",
     "output_type": "stream",
     "text": [
      "Program to check if a number is prime or not\n",
      "enter the number6\n",
      "6 is not a prime number\n"
     ]
    }
   ],
   "source": [
    "print(\"Program to check if a number is prime or not\")\n",
    "\n",
    "num =int(input(\"enter the number\"))\n",
    "flag = False\n",
    "\n",
    "if num == 1:\n",
    "    print(num, \"is not a prime number\")\n",
    "elif num > 1:\n",
    "    \n",
    "    for i in range(2, num):\n",
    "        if (num % i) == 0:\n",
    "            flag = True\n",
    "            break\n",
    "    if flag:\n",
    "        print(num, \"is not a prime number\")\n",
    "    else:\n",
    "        print(num, \"is a prime number\")"
   ]
  },
  {
   "cell_type": "code",
   "execution_count": 73,
   "id": "b9ab586a",
   "metadata": {},
   "outputs": [
    {
     "name": "stdout",
     "output_type": "stream",
     "text": [
      "Enter number: 56\n",
      "Reverse of the number: 65\n"
     ]
    }
   ],
   "source": [
    "n=int(input(\"Enter number: \"))\n",
    "rev=0\n",
    "while(n>0):\n",
    "    dig=n%10\n",
    "    rev=rev*10+dig\n",
    "    n=n//10\n",
    "print(\"Reverse of the number:\",rev)"
   ]
  },
  {
   "cell_type": "code",
   "execution_count": 76,
   "id": "68cb035e",
   "metadata": {},
   "outputs": [
    {
     "name": "stdout",
     "output_type": "stream",
     "text": [
      "Enter the number: 90\n",
      "9\n"
     ]
    }
   ],
   "source": [
    "num=int(input(\"Enter the number: \"))\n",
    "add=0\n",
    "while(num>0):\n",
    "        reminder=num%10\n",
    "        add=add+reminder\n",
    "        num=num//10\n",
    "print(add)\n",
    "    "
   ]
  },
  {
   "cell_type": "code",
   "execution_count": 78,
   "id": "e6228dc1",
   "metadata": {},
   "outputs": [
    {
     "name": "stdout",
     "output_type": "stream",
     "text": [
      "a program to find the power using\n",
      "27\n"
     ]
    }
   ],
   "source": [
    "print(\"a program to find the power using\")\n",
    "print(pow(3,3))"
   ]
  },
  {
   "cell_type": "code",
   "execution_count": 81,
   "id": "70ffba2f",
   "metadata": {},
   "outputs": [
    {
     "name": "stdout",
     "output_type": "stream",
     "text": [
      "program to find the sum and difference of two numbers\n"
     ]
    },
    {
     "data": {
      "text/plain": [
       "(12, 0)"
      ]
     },
     "execution_count": 81,
     "metadata": {},
     "output_type": "execute_result"
    }
   ],
   "source": [
    "print(\"program to find the sum and difference of two numbers\")\n",
    "def cal(a,b):\n",
    "    add=a+b\n",
    "#     print(add)\n",
    "    diff=a-b\n",
    "#     print(diff)\n",
    "    return add,diff\n",
    "cal(6,6)"
   ]
  },
  {
   "cell_type": "code",
   "execution_count": 2,
   "id": "e4480528",
   "metadata": {},
   "outputs": [
    {
     "name": "stdout",
     "output_type": "stream",
     "text": [
      "program to find number divisible by another number\n",
      "enter the number3\n",
      "enter the second number9\n",
      "3 is divisible by 9\n"
     ]
    }
   ],
   "source": [
    "print(\"program to find number divisible by another number\")\n",
    "c=int(input(\"enter the number\"))\n",
    "d=int(input(\"enter the second number\"))\n",
    "def div(a,b):\n",
    "    if (a%b==0):\n",
    "        print(a,\"is divisible by\",b)\n",
    "    else:\n",
    "        print(a,\"is not divisible by\",b)\n",
    "div(c,d)"
   ]
  },
  {
   "cell_type": "code",
   "execution_count": 10,
   "id": "651aae88",
   "metadata": {},
   "outputs": [
    {
     "name": "stdout",
     "output_type": "stream",
     "text": [
      "lama\n",
      "6000\n"
     ]
    }
   ],
   "source": [
    "# program employee\n",
    "def emp(name,salary=9000):\n",
    "    print(name)\n",
    "    print(salary)\n",
    "emp(\"lama\",6000)\n"
   ]
  },
  {
   "cell_type": "code",
   "execution_count": 16,
   "id": "b37e3a94",
   "metadata": {},
   "outputs": [
    {
     "name": "stdout",
     "output_type": "stream",
     "text": [
      "heyo\n"
     ]
    }
   ],
   "source": [
    "def getstr(str1,str2):\n",
    "    if(len(str1)>len(str2)):\n",
    "        print(str1)\n",
    "    elif(len(str2)>len(str1)):\n",
    "            print(str2)\n",
    "    else:\n",
    "        print(str1)\n",
    "        print(str2)\n",
    "getstr('heyo','hel')       "
   ]
  },
  {
   "cell_type": "code",
   "execution_count": 19,
   "id": "68f329c1",
   "metadata": {},
   "outputs": [
    {
     "name": "stdout",
     "output_type": "stream",
     "text": [
      "12 is even\n"
     ]
    }
   ],
   "source": [
    "# program to check a number is odd or even\n",
    "def getnum(n):\n",
    "    if(n%2==0):\n",
    "        print(n,'is even')\n",
    "    else:\n",
    "        print(n,'is odd number')\n",
    "getnum(12)"
   ]
  },
  {
   "cell_type": "code",
   "execution_count": 25,
   "id": "fcc0a570",
   "metadata": {},
   "outputs": [
    {
     "name": "stdout",
     "output_type": "stream",
     "text": [
      "1\n",
      "2\n",
      "3\n",
      "4\n",
      "5\n",
      "6\n",
      "7\n",
      "8\n",
      "9\n",
      "10\n",
      "11\n"
     ]
    }
   ],
   "source": [
    "# program to find the length of string without using len\n",
    "str=\"hello world\"\n",
    "count=0\n",
    "for i in str:\n",
    "    count=count+1\n",
    "    print(count)"
   ]
  },
  {
   "cell_type": "code",
   "execution_count": 54,
   "id": "c00593a1",
   "metadata": {},
   "outputs": [
    {
     "data": {
      "text/plain": [
       "'heloo#world#people'"
      ]
     },
     "execution_count": 54,
     "metadata": {},
     "output_type": "execute_result"
    }
   ],
   "source": [
    "# program to repalce blank with hyphen\n",
    "r='heloo world people'\n",
    "r.replace(' ','#')\n"
   ]
  },
  {
   "cell_type": "code",
   "execution_count": 69,
   "id": "fa15413a",
   "metadata": {},
   "outputs": [
    {
     "data": {
      "text/plain": [
       "18"
      ]
     },
     "execution_count": 69,
     "metadata": {},
     "output_type": "execute_result"
    }
   ],
   "source": [
    "# program to find product of two numbers\n",
    "def product(a,b):\n",
    "    mul=a*b\n",
    "    return(mul)\n",
    "product(2,9)"
   ]
  },
  {
   "cell_type": "code",
   "execution_count": 1,
   "id": "8894147a",
   "metadata": {},
   "outputs": [
    {
     "name": "stdout",
     "output_type": "stream",
     "text": [
      "number of characters in the string:   34\n",
      "number of words in the string:   8\n"
     ]
    }
   ],
   "source": [
    "# to count number of characters and words in the string\n",
    "strr=\"hey how are you doing are you fine\"\n",
    "char=0\n",
    "word=1\n",
    "for i in strr:\n",
    "    char=char+1\n",
    "    if(i==\" \"):\n",
    "        word=word+1\n",
    "print(\"number of characters in the string:  \",char)\n",
    "print(\"number of words in the string:  \",word)\n"
   ]
  },
  {
   "cell_type": "code",
   "execution_count": 3,
   "id": "a2725e06",
   "metadata": {},
   "outputs": [
    {
     "name": "stdout",
     "output_type": "stream",
     "text": [
      "13\n"
     ]
    }
   ],
   "source": [
    "# program to count lower case charcters in the string\n",
    "strr=\"Hello Hai My NAME is Hanna\"\n",
    "count=0\n",
    "for i in strr:\n",
    "    if(i.islower()):\n",
    "        count=count+1\n",
    "print(count)"
   ]
  },
  {
   "cell_type": "code",
   "execution_count": 5,
   "id": "77968ed1",
   "metadata": {},
   "outputs": [
    {
     "name": "stdout",
     "output_type": "stream",
     "text": [
      "Enter a number: 54\n",
      "54 is not an Armstrong number\n"
     ]
    }
   ],
   "source": [
    "# Python program to check if the number is an Armstrong number or not\n",
    "\n",
    "# take input from the user\n",
    "num = int(input(\"Enter a number: \"))\n",
    "\n",
    "# initialize sum\n",
    "sum = 0\n",
    "\n",
    "# find the sum of the cube of each digit\n",
    "temp = num\n",
    "while temp > 0:\n",
    "   digit = temp % 10\n",
    "   sum += digit ** 3\n",
    "   temp //= 10\n",
    "\n",
    "# display the result\n",
    "if num == sum:\n",
    "   print(num,\"is an Armstrong number\")\n",
    "else:\n",
    "   print(num,\"is not an Armstrong number\")"
   ]
  },
  {
   "cell_type": "code",
   "execution_count": 9,
   "id": "c7b9981d",
   "metadata": {},
   "outputs": [
    {
     "name": "stdout",
     "output_type": "stream",
     "text": [
      "fahrenheit:   135.2\n"
     ]
    }
   ],
   "source": [
    "# program to convert celsius to fahrenheit\n",
    "\n",
    "def convert(c):\n",
    "    f=c*33.8\n",
    "    print(\"fahrenheit:  \",f)\n",
    "convert(4)"
   ]
  },
  {
   "cell_type": "code",
   "execution_count": 10,
   "id": "ed9248ed",
   "metadata": {},
   "outputs": [
    {
     "name": "stdout",
     "output_type": "stream",
     "text": [
      "enter the height of triangle3\n",
      "enter the base of triangle5\n",
      "area of triangle is:   7.5\n"
     ]
    }
   ],
   "source": [
    "# program to find the area of triangle\n",
    "h=int(input(\"enter the height of triangle\"))\n",
    "b=int(input(\"enter the base of triangle\"))\n",
    "def tri(x,y):\n",
    "    area=(b*h)/2\n",
    "    print(\"area of triangle is:  \",area)\n",
    "tri(h,b)"
   ]
  },
  {
   "cell_type": "code",
   "execution_count": 13,
   "id": "65732bb7",
   "metadata": {},
   "outputs": [
    {
     "name": "stdout",
     "output_type": "stream",
     "text": [
      "enter the number10\n",
      "enter the number100\n",
      "rem: 10 quo: 0.1\n"
     ]
    }
   ],
   "source": [
    "# program to find the reminder and quotient of two numbers\n",
    "a=int(input(\"enter the number\"))\n",
    "b=int(input(\"enter the number\"))\n",
    "def qr(x,y):\n",
    "    reminder=x%y\n",
    "    qu=x/y\n",
    "    print(\"rem:\",reminder,\"quo:\",qu)\n",
    "qr(a,b)"
   ]
  },
  {
   "cell_type": "code",
   "execution_count": 14,
   "id": "f0aa146c",
   "metadata": {},
   "outputs": [
    {
     "name": "stdout",
     "output_type": "stream",
     "text": [
      "simple interest:   448\n"
     ]
    }
   ],
   "source": [
    "# to find simple interest\n",
    "def si(prin,rate,time):\n",
    "    i=prin*rate*time\n",
    "    print(\"simple interest:  \",i)\n",
    "si(56,2,4)"
   ]
  },
  {
   "cell_type": "code",
   "execution_count": 17,
   "id": "c725ee08",
   "metadata": {},
   "outputs": [
    {
     "name": "stdout",
     "output_type": "stream",
     "text": [
      " before swaping:  2 3\n",
      "after swaping:   3 2\n"
     ]
    }
   ],
   "source": [
    "# swap two numbers\n",
    "def swap(a,b):\n",
    "    tempa=a\n",
    "    tempb=b\n",
    "    print(\" before swaping: \",a  ,b)\n",
    "    b=tempa\n",
    "    a=tempb\n",
    "    print(\"after swaping:  \",a   ,b)\n",
    "swap(2,3)"
   ]
  },
  {
   "cell_type": "code",
   "execution_count": 2,
   "id": "d566c74c",
   "metadata": {},
   "outputs": [
    {
     "name": "stdout",
     "output_type": "stream",
     "text": [
      "0.8021052631578948 14.82\n"
     ]
    }
   ],
   "source": [
    "# program to convert centimeter to inches and feet\n",
    "def convert(cm):\n",
    "    f=30.48/cm\n",
    "    i=0.39*cm\n",
    "    print(f,i)\n",
    "convert(38)"
   ]
  },
  {
   "cell_type": "code",
   "execution_count": 27,
   "id": "0980944a",
   "metadata": {},
   "outputs": [
    {
     "name": "stdout",
     "output_type": "stream",
     "text": [
      "1\n",
      "2\n",
      "3\n",
      "4\n",
      "5\n",
      "7\n",
      "8\n",
      "9\n"
     ]
    }
   ],
   "source": [
    "for i in range(1,10):\n",
    "    if (i%2!=0) or (i%3!=0):\n",
    "        print(i)"
   ]
  },
  {
   "cell_type": "code",
   "execution_count": 24,
   "id": "bf208bb3",
   "metadata": {},
   "outputs": [
    {
     "name": "stdout",
     "output_type": "stream",
     "text": [
      "1.0\n",
      "1.5\n",
      "1.8333333333333333\n",
      "2.083333333333333\n",
      "2.283333333333333\n",
      "2.4499999999999997\n",
      "2.5928571428571425\n"
     ]
    }
   ],
   "source": [
    "x=0\n",
    "for i in range(1,8):\n",
    "    x+=1/i\n",
    "    print(x)"
   ]
  },
  {
   "cell_type": "code",
   "execution_count": 28,
   "id": "5d81d459",
   "metadata": {},
   "outputs": [
    {
     "name": "stdout",
     "output_type": "stream",
     "text": [
      "[2, 4, 6, 8, 10]\n"
     ]
    }
   ],
   "source": [
    "# program to print even numbers in list by using list\n",
    "a=[1,2,3,4,5,6,7,8,9,10]\n",
    "li=list(filter(lambda y:y%2==0,a))\n",
    "print(li)"
   ]
  },
  {
   "cell_type": "code",
   "execution_count": 32,
   "id": "5335b7b2",
   "metadata": {},
   "outputs": [
    {
     "name": "stdout",
     "output_type": "stream",
     "text": [
      "[1, 4, 9, 16, 25, 36, 49, 64, 81, 100]\n"
     ]
    }
   ],
   "source": [
    "# program to square all the elements of list using map\n",
    "a=[1,2,3,4,5,6,7,8,9,10]\n",
    "li=list(map(lambda y:y**2,a))\n",
    "print(li)"
   ]
  },
  {
   "cell_type": "code",
   "execution_count": 33,
   "id": "ba480c04",
   "metadata": {},
   "outputs": [
    {
     "name": "stdout",
     "output_type": "stream",
     "text": [
      "[2, 4, 6, 8, 10]\n"
     ]
    }
   ],
   "source": [
    "# using map and filter at the same time\n",
    "a=[1,2,3,4,5,6,7,8,9,10]\n",
    "li=list(filter(lambda y:y%2==0,a))\n",
    "print(li)"
   ]
  },
  {
   "cell_type": "code",
   "execution_count": 38,
   "id": "b00dadcc",
   "metadata": {},
   "outputs": [
    {
     "name": "stdout",
     "output_type": "stream",
     "text": [
      "[2, 4, 6, 8, 10, 12, 14, 16, 18, 20]\n",
      "[4, 16, 36, 64, 100, 144, 196, 256, 324, 400]\n"
     ]
    }
   ],
   "source": [
    "# program to filter\n",
    "a=[1,2,3,4,5,6,7,8,9,10,11,12,13,14,15,16,17,18,19,20]\n",
    "li=list(filter(lambda y:y%2==0,a))\n",
    "print(li)\n",
    "hi=list(map(lambda r:r**2,li))\n",
    "print(hi)"
   ]
  },
  {
   "cell_type": "markdown",
   "id": "16dd1489",
   "metadata": {},
   "source": [
    "a=[1,2,3,4,5,6,7,8,9,10,11,12,13,14,15,16,17,18,19,20]\n",
    "li=list(map(lambda y:y**2,a))\n",
    "print(li)"
   ]
  },
  {
   "cell_type": "code",
   "execution_count": 47,
   "id": "a1f49b79",
   "metadata": {},
   "outputs": [
    {
     "name": "stdout",
     "output_type": "stream",
     "text": [
      "{1: 1, 2: 4, 3: 9}\n"
     ]
    }
   ],
   "source": [
    "# using function\n",
    "def dic():\n",
    "    a={1:1,2:4,3:9}\n",
    "    print(a)\n",
    "dic()"
   ]
  },
  {
   "cell_type": "code",
   "execution_count": 9,
   "id": "000aa98d",
   "metadata": {},
   "outputs": [
    {
     "name": "stdout",
     "output_type": "stream",
     "text": [
      "using list\n",
      "[361]\n"
     ]
    }
   ],
   "source": [
    "print(\"using list\")\n",
    "def li():\n",
    "    a=[]\n",
    "    for i in range(1,20):\n",
    "        i=i**2\n",
    "        \n",
    "        \n",
    "    a.append(i)   \n",
    "    print(a)\n",
    "li()"
   ]
  },
  {
   "cell_type": "code",
   "execution_count": 23,
   "id": "9af4a6ea",
   "metadata": {},
   "outputs": [
    {
     "name": "stdout",
     "output_type": "stream",
     "text": [
      "using dictionary\n",
      "{1: 1, 2: 4, 3: 9, 4: 16, 5: 25, 6: 36, 7: 49, 8: 64, 9: 81, 10: 100, 11: 121, 12: 144, 13: 169, 14: 196, 15: 225, 16: 256, 17: 289, 18: 324, 19: 361, 20: 400}\n"
     ]
    }
   ],
   "source": [
    "print(\"using dictionary\")\n",
    "def li():\n",
    "    a={}\n",
    "    for i in range(1,21):\n",
    "        a[i]=i**2\n",
    "                \n",
    "    \n",
    "    print(a)\n",
    "li()"
   ]
  },
  {
   "cell_type": "code",
   "execution_count": 21,
   "id": "f504ea3e",
   "metadata": {},
   "outputs": [
    {
     "name": "stdout",
     "output_type": "stream",
     "text": [
      "using dictionary\n",
      "dict_keys([1, 2, 3, 4, 5, 6, 7, 8, 9, 10, 11, 12, 13, 14, 15, 16, 17, 18, 19, 20])\n"
     ]
    }
   ],
   "source": [
    "print(\"using dictionary\")\n",
    "def li():\n",
    "    a={}\n",
    "    for i in range(1,21):\n",
    "        a[i]=i**2\n",
    "                \n",
    "    print(a.keys())\n",
    "#     print(a)\n",
    "li()"
   ]
  },
  {
   "cell_type": "code",
   "execution_count": 22,
   "id": "7f96a78c",
   "metadata": {},
   "outputs": [
    {
     "name": "stdout",
     "output_type": "stream",
     "text": [
      "using dictionary\n",
      "dict_values([1, 4, 9, 16, 25, 36, 49, 64, 81, 100, 121, 144, 169, 196, 225, 256, 289, 324, 361, 400])\n"
     ]
    }
   ],
   "source": [
    "print(\"using dictionary\")\n",
    "def li():\n",
    "    a={}\n",
    "    for i in range(1,21):\n",
    "        a[i]=i**2\n",
    "                \n",
    "    print(a.values())\n",
    "#     print(a)\n",
    "li()"
   ]
  },
  {
   "cell_type": "code",
   "execution_count": 36,
   "id": "832465ed",
   "metadata": {},
   "outputs": [
    {
     "name": "stdout",
     "output_type": "stream",
     "text": [
      "[1, 4, 9, 16, 25, 36, 49, 64, 81, 100, 121, 144, 169, 196, 225, 256, 289, 324, 361, 400]\n"
     ]
    }
   ],
   "source": [
    "def tup():\n",
    "    a=[]\n",
    "    for i in range(1,21):\n",
    "        a.append(i**2)\n",
    "    print(a)\n",
    "tup()\n",
    "    "
   ]
  },
  {
   "cell_type": "code",
   "execution_count": 44,
   "id": "803a4abc",
   "metadata": {},
   "outputs": [
    {
     "name": "stdout",
     "output_type": "stream",
     "text": [
      "[3]\n"
     ]
    }
   ],
   "source": [
    "# n=int(input(\"enter the numberr\" )\n",
    "a=[1,2,3,4,5]\n",
    "li=list(filter(lambda y:y%3==0,a))\n",
    "print(li)"
   ]
  },
  {
   "cell_type": "code",
   "execution_count": null,
   "id": "f8d73624",
   "metadata": {},
   "outputs": [],
   "source": []
  }
 ],
 "metadata": {
  "kernelspec": {
   "display_name": "Python 3 (ipykernel)",
   "language": "python",
   "name": "python3"
  },
  "language_info": {
   "codemirror_mode": {
    "name": "ipython",
    "version": 3
   },
   "file_extension": ".py",
   "mimetype": "text/x-python",
   "name": "python",
   "nbconvert_exporter": "python",
   "pygments_lexer": "ipython3",
   "version": "3.9.13"
  }
 },
 "nbformat": 4,
 "nbformat_minor": 5
}
